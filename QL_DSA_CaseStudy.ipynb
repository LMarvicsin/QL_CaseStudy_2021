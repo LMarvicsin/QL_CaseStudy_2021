{
  "nbformat": 4,
  "nbformat_minor": 0,
  "metadata": {
    "colab": {
      "name": "QL_DSA_CaseStudy.ipynb",
      "provenance": [],
      "collapsed_sections": [],
      "toc_visible": true,
      "authorship_tag": "ABX9TyMGt3vBROnY6jpK/qyyUVOn",
      "include_colab_link": true
    },
    "kernelspec": {
      "name": "python3",
      "display_name": "Python 3"
    }
  },
  "cells": [
    {
      "cell_type": "markdown",
      "metadata": {
        "id": "view-in-github",
        "colab_type": "text"
      },
      "source": [
        "<a href=\"https://colab.research.google.com/github/LMarvicsin/QL_CaseStudy_2021/blob/main/QL_DSA_CaseStudy.ipynb\" target=\"_parent\"><img src=\"https://colab.research.google.com/assets/colab-badge.svg\" alt=\"Open In Colab\"/></a>"
      ]
    },
    {
      "cell_type": "markdown",
      "metadata": {
        "id": "TOnDaqyXfsjp"
      },
      "source": [
        "DSA Case Study: Bank Marketing Data Set\r\n",
        "\r\n",
        "February 26,2021\r\n",
        "\r\n",
        "Lindsey Marvicsin"
      ]
    },
    {
      "cell_type": "code",
      "metadata": {
        "colab": {
          "base_uri": "https://localhost:8080/"
        },
        "id": "m946KeZYsnbm",
        "outputId": "ff18c363-a1e8-46dc-bc63-bb5e48f1fb21"
      },
      "source": [
        "from google.colab import drive\r\n",
        "drive.mount('/content/drive')"
      ],
      "execution_count": 26,
      "outputs": [
        {
          "output_type": "stream",
          "text": [
            "Mounted at /content/drive\n"
          ],
          "name": "stdout"
        }
      ]
    },
    {
      "cell_type": "code",
      "metadata": {
        "id": "-2zD4CTtm0vR"
      },
      "source": [
        "import pandas as pd\r\n",
        "import os"
      ],
      "execution_count": 17,
      "outputs": []
    },
    {
      "cell_type": "code",
      "metadata": {
        "colab": {
          "base_uri": "https://localhost:8080/"
        },
        "id": "w6A97IgKuiPM",
        "outputId": "d9eacd5e-10d4-4c11-cad2-111b79a2c133"
      },
      "source": [
        "!ls \"/content/drive/My Drive/data\""
      ],
      "execution_count": 29,
      "outputs": [
        {
          "output_type": "stream",
          "text": [
            "'DSA Data Set.csv'\n"
          ],
          "name": "stdout"
        }
      ]
    },
    {
      "cell_type": "code",
      "metadata": {
        "colab": {
          "base_uri": "https://localhost:8080/"
        },
        "id": "0_cZuS-7yo7R",
        "outputId": "4d87e74d-edfa-4b89-fc7f-1467d312dd05"
      },
      "source": [
        "path = \"/content/drive/My Drive/data/DSA Data Set.csv\"\r\n",
        "base_df = pd.read_csv(path)\r\n",
        "print(base_df)"
      ],
      "execution_count": 32,
      "outputs": [
        {
          "output_type": "stream",
          "text": [
            "       age          job  marital  ... nr.employed ModelPrediction    y\n",
            "0       56    housemaid  married  ...      5191.0        0.932750   no\n",
            "1       57     services  married  ...      5191.0        0.953579   no\n",
            "2       37     services  married  ...      5191.0        0.945724   no\n",
            "3       40       admin.  married  ...      5191.0        0.933875   no\n",
            "4       56     services  married  ...      5191.0        0.940996   no\n",
            "...    ...          ...      ...  ...         ...             ...  ...\n",
            "41183   73      retired  married  ...      4963.6        0.567417  yes\n",
            "41184   46  blue-collar  married  ...      4963.6        0.655416   no\n",
            "41185   56      retired  married  ...      4963.6        0.574102   no\n",
            "41186   44   technician  married  ...      4963.6        0.615098  yes\n",
            "41187   74      retired  married  ...      4963.6        0.631597   no\n",
            "\n",
            "[41188 rows x 22 columns]\n"
          ],
          "name": "stdout"
        }
      ]
    }
  ]
}